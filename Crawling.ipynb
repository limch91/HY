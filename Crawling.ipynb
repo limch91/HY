{
 "cells": [
  {
   "cell_type": "markdown",
   "metadata": {},
   "source": [
    "## 레벨1 HTML 크롤링"
   ]
  },
  {
   "cell_type": "code",
   "execution_count": 1,
   "metadata": {
    "collapsed": true
   },
   "outputs": [],
   "source": [
    "import requests #웹서버에 정보를 요청하는 라이브러리\n",
    "from bs4 import BeautifulSoup #정보(HTML)을 파싱하는 것"
   ]
  },
  {
   "cell_type": "code",
   "execution_count": 2,
   "metadata": {},
   "outputs": [
    {
     "name": "stdout",
     "output_type": "stream",
     "text": [
      "개발환경 구축하기 https://nomade.kr/vod/setup/\n",
      "파이썬 차근차근 시작하기 https://nomade.kr/vod/python/\n",
      "크롤링 차근차근 시작하기 https://nomade.kr/vod/crawling/\n",
      "파이썬으로 업무 자동화 https://nomade.kr/vod/automation/\n",
      "장고 - 기본편 https://nomade.kr/vod/django/\n",
      "장고걸스 튜토리얼 https://nomade.kr/vod/djangogirls/\n",
      "장고 - Form/ModelForm 잘 알고 쓰기 https://nomade.kr/vod/form/\n",
      "장고 - 클래스 기반 뷰. 잘 알고 쓰기 https://nomade.kr/vod/cbv/\n",
      "장고 - 결제 시스템 연동 https://nomade.kr/vod/payment/\n",
      "장고 - 웹 프론트엔드 시작편 https://nomade.kr/vod/frontend/\n",
      "장고 - 다양한 위젯 만들기 https://nomade.kr/vod/widgets/\n",
      "장고 - API 서버 만들기 및 초간단 안드로이드 앱 만들기 https://nomade.kr/vod/apiserver/\n",
      "장고 - 하이브리드 앱 만들기 https://nomade.kr/vod/hybrid/\n",
      "장고 - 서비스 배포하기 https://nomade.kr/vod/deploy/\n",
      "장고 - 실전편 (Feat. 배달의 민족 St. 만들기) https://nomade.kr/vod/django-baemin/\n",
      "장고 - 실전편 (Feat. 인스타그램 St. 만들기) https://nomade.kr/vod/django-instagram/\n"
     ]
    }
   ],
   "source": [
    "lv1_url = 'https://askdjango.github.io/lv1/' #크롤링할 주소\n",
    "html = requests.get(lv1_url).text #조회용도의 정보를 요청한다. text는 이 중 text정보만 요청\n",
    "\n",
    "soup = BeautifulSoup(html, 'html.parser') #soup는 꾸며주는 용도\n",
    "for tag in soup.select('#course_list > .course > a'): #course는 글자, a는 주소\n",
    "    print(tag.text, tag['href'])"
   ]
  },
  {
   "cell_type": "code",
   "execution_count": 13,
   "metadata": {},
   "outputs": [
    {
     "name": "stdout",
     "output_type": "stream",
     "text": [
      "개발환경 구축하기 https://nomade.kr/vod/setup/\n",
      "파이썬 차근차근 시작하기 https://nomade.kr/vod/python/\n",
      "크롤링 차근차근 시작하기 https://nomade.kr/vod/crawling/\n",
      "파이썬으로 업무 자동화 https://nomade.kr/vod/automation/\n",
      "장고 - 기본편 https://nomade.kr/vod/django/\n",
      "장고걸스 튜토리얼 https://nomade.kr/vod/djangogirls/\n",
      "장고 - Form/ModelForm 잘 알고 쓰기 https://nomade.kr/vod/form/\n",
      "장고 - 클래스 기반 뷰. 잘 알고 쓰기 https://nomade.kr/vod/cbv/\n",
      "장고 - 결제 시스템 연동 https://nomade.kr/vod/payment/\n",
      "장고 - 웹 프론트엔드 시작편 https://nomade.kr/vod/frontend/\n",
      "장고 - 다양한 위젯 만들기 https://nomade.kr/vod/widgets/\n",
      "장고 - API 서버 만들기 및 초간단 안드로이드 앱 만들기 https://nomade.kr/vod/apiserver/\n",
      "장고 - 하이브리드 앱 만들기 https://nomade.kr/vod/hybrid/\n",
      "장고 - 서비스 배포하기 https://nomade.kr/vod/deploy/\n",
      "장고 - 실전편 (Feat. 배달의 민족 St. 만들기) https://nomade.kr/vod/django-baemin/\n",
      "장고 - 실전편 (Feat. 인스타그램 St. 만들기) https://nomade.kr/vod/django-instagram/\n"
     ]
    }
   ],
   "source": [
    "## 레벨2\n",
    "import json #json 파일 형식을 다루는 라이브러리\n",
    "import requests #정보 요청하는 라이브러리\n",
    "\n",
    "lv2_url = 'https://askdjango.github.io/lv2/data.json' #크롤링할 주소의 json파일명\n",
    "json_string = requests.get(lv2_url).text #정보를 일단 저장\n",
    "\n",
    "course_list = json.loads(json_string)\n",
    "# course_list\n",
    "\n",
    "for course in course_list:\n",
    "    print(course['name'], course['url'])"
   ]
  },
  {
   "cell_type": "code",
   "execution_count": 21,
   "metadata": {},
   "outputs": [
    {
     "data": {
      "text/plain": [
       "'[\\n        {\"name\": \"개발환경 구축하기\", \"url\": \"https://nomade.kr/vod/setup/\"},\\n        {\"name\": \"파이썬 차근차근 시작하기\", \"url\": \"https://nomade.kr/vod/python/\"},\\n        {\"name\": \"크롤링 차근차근 시작하기\", \"url\": \"https://nomade.kr/vod/crawling/\"},\\n        {\"name\": \"파이썬으로 업무 자동화\", \"url\": \"https://nomade.kr/vod/automation/\"},\\n        {\"name\": \"장고 - 기본편\", \"url\": \"https://nomade.kr/vod/django/\"},\\n        {\"name\": \"장고걸스 튜토리얼\", \"url\": \"https://nomade.kr/vod/djangogirls/\"},\\n        {\"name\": \"장고 - Form/ModelForm 잘 알고 쓰기\", \"url\": \"https://nomade.kr/vod/form/\"},\\n        {\"name\": \"장고 - 클래스 기반 뷰. 잘 알고 쓰기\", \"url\": \"https://nomade.kr/vod/cbv/\"},\\n        {\"name\": \"장고 - 결제 시스템 연동\", \"url\": \"https://nomade.kr/vod/payment/\"},\\n        {\"name\": \"장고 - 웹 프론트엔드 시작편\", \"url\": \"https://nomade.kr/vod/frontend/\"},\\n        {\"name\": \"장고 - 다양한 위젯 만들기\", \"url\": \"https://nomade.kr/vod/widgets/\"},\\n        {\"name\": \"장고 - API 서버 만들기 및 초간단 안드로이드 앱 만들기\", \"url\": \"https://nomade.kr/vod/apiserver/\"},\\n        {\"name\": \"장고 - 하이브리드 앱 만들기\", \"url\": \"https://nomade.kr/vod/hybrid/\"},\\n        {\"name\": \"장고 - 서비스 배포하기\", \"url\": \"https://nomade.kr/vod/deploy/\"},\\n        {\"name\": \"장고 - 실전편 (Feat. 배달의 민족 St. 만들기)\", \"url\": \"https://nomade.kr/vod/django-baemin/\"},\\n        {\"name\": \"장고 - 실전편 (Feat. 인스타그램 St. 만들기)\", \"url\": \"https://nomade.kr/vod/django-instagram/\"}\\n    ]'"
      ]
     },
     "execution_count": 21,
     "metadata": {},
     "output_type": "execute_result"
    }
   ],
   "source": [
    "## 레벨3 크롤링\n",
    "import json #ja=자바스크립트\n",
    "import re #정규표현식 라이브러리\n",
    "import requests\n",
    "\n",
    "lv3_url = 'https://askdjango.github.io/lv3/' #크롤링할 주소\n",
    "html = requests.get(lv3_url). text\n",
    "\n",
    "# 숨겨져있으므로 정규표현식으로 내용 발췌\n",
    "matched = re.search(r'var courses = (.+?);', html, re.S) #re.s는 개행이 있음을 알림. 그리고 첫번째 만나는 지점까지 자르기.\n",
    "json_string = matched.group(1)\n",
    "json_string\n"
   ]
  },
  {
   "cell_type": "code",
   "execution_count": 22,
   "metadata": {},
   "outputs": [
    {
     "data": {
      "text/plain": [
       "[{'name': '개발환경 구축하기', 'url': 'https://nomade.kr/vod/setup/'},\n",
       " {'name': '파이썬 차근차근 시작하기', 'url': 'https://nomade.kr/vod/python/'},\n",
       " {'name': '크롤링 차근차근 시작하기', 'url': 'https://nomade.kr/vod/crawling/'},\n",
       " {'name': '파이썬으로 업무 자동화', 'url': 'https://nomade.kr/vod/automation/'},\n",
       " {'name': '장고 - 기본편', 'url': 'https://nomade.kr/vod/django/'},\n",
       " {'name': '장고걸스 튜토리얼', 'url': 'https://nomade.kr/vod/djangogirls/'},\n",
       " {'name': '장고 - Form/ModelForm 잘 알고 쓰기', 'url': 'https://nomade.kr/vod/form/'},\n",
       " {'name': '장고 - 클래스 기반 뷰. 잘 알고 쓰기', 'url': 'https://nomade.kr/vod/cbv/'},\n",
       " {'name': '장고 - 결제 시스템 연동', 'url': 'https://nomade.kr/vod/payment/'},\n",
       " {'name': '장고 - 웹 프론트엔드 시작편', 'url': 'https://nomade.kr/vod/frontend/'},\n",
       " {'name': '장고 - 다양한 위젯 만들기', 'url': 'https://nomade.kr/vod/widgets/'},\n",
       " {'name': '장고 - API 서버 만들기 및 초간단 안드로이드 앱 만들기',\n",
       "  'url': 'https://nomade.kr/vod/apiserver/'},\n",
       " {'name': '장고 - 하이브리드 앱 만들기', 'url': 'https://nomade.kr/vod/hybrid/'},\n",
       " {'name': '장고 - 서비스 배포하기', 'url': 'https://nomade.kr/vod/deploy/'},\n",
       " {'name': '장고 - 실전편 (Feat. 배달의 민족 St. 만들기)',\n",
       "  'url': 'https://nomade.kr/vod/django-baemin/'},\n",
       " {'name': '장고 - 실전편 (Feat. 인스타그램 St. 만들기)',\n",
       "  'url': 'https://nomade.kr/vod/django-instagram/'}]"
      ]
     },
     "execution_count": 22,
     "metadata": {},
     "output_type": "execute_result"
    }
   ],
   "source": [
    "course_list = json.loads(json_string)\n",
    "course_list"
   ]
  },
  {
   "cell_type": "code",
   "execution_count": 24,
   "metadata": {},
   "outputs": [
    {
     "name": "stdout",
     "output_type": "stream",
     "text": [
      "개발환경 구축하기 https://nomade.kr/vod/setup/\n",
      "파이썬 차근차근 시작하기 https://nomade.kr/vod/python/\n",
      "크롤링 차근차근 시작하기 https://nomade.kr/vod/crawling/\n",
      "파이썬으로 업무 자동화 https://nomade.kr/vod/automation/\n",
      "장고 - 기본편 https://nomade.kr/vod/django/\n",
      "장고걸스 튜토리얼 https://nomade.kr/vod/djangogirls/\n",
      "장고 - Form/ModelForm 잘 알고 쓰기 https://nomade.kr/vod/form/\n",
      "장고 - 클래스 기반 뷰. 잘 알고 쓰기 https://nomade.kr/vod/cbv/\n",
      "장고 - 결제 시스템 연동 https://nomade.kr/vod/payment/\n",
      "장고 - 웹 프론트엔드 시작편 https://nomade.kr/vod/frontend/\n",
      "장고 - 다양한 위젯 만들기 https://nomade.kr/vod/widgets/\n",
      "장고 - API 서버 만들기 및 초간단 안드로이드 앱 만들기 https://nomade.kr/vod/apiserver/\n",
      "장고 - 하이브리드 앱 만들기 https://nomade.kr/vod/hybrid/\n",
      "장고 - 서비스 배포하기 https://nomade.kr/vod/deploy/\n",
      "장고 - 실전편 (Feat. 배달의 민족 St. 만들기) https://nomade.kr/vod/django-baemin/\n",
      "장고 - 실전편 (Feat. 인스타그램 St. 만들기) https://nomade.kr/vod/django-instagram/\n"
     ]
    }
   ],
   "source": [
    "for course in course_list:\n",
    "    print('{name} {url}'.format(**course))"
   ]
  },
  {
   "cell_type": "code",
   "execution_count": null,
   "metadata": {
    "collapsed": true
   },
   "outputs": [],
   "source": []
  }
 ],
 "metadata": {
  "kernelspec": {
   "display_name": "Python 3",
   "language": "python",
   "name": "python3"
  },
  "language_info": {
   "codemirror_mode": {
    "name": "ipython",
    "version": 3
   },
   "file_extension": ".py",
   "mimetype": "text/x-python",
   "name": "python",
   "nbconvert_exporter": "python",
   "pygments_lexer": "ipython3",
   "version": "3.6.1"
  }
 },
 "nbformat": 4,
 "nbformat_minor": 2
}
