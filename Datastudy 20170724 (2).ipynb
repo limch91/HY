{
 "cells": [
  {
   "cell_type": "markdown",
   "metadata": {},
   "source": [
    "# 크롤링수업 1"
   ]
  },
  {
   "cell_type": "code",
   "execution_count": 1,
   "metadata": {},
   "outputs": [
    {
     "name": "stdout",
     "output_type": "stream",
     "text": [
      "개발환경 구축하기 https://nomade.kr/vod/setup/\n",
      "파이썬 차근차근 시작하기 https://nomade.kr/vod/python/\n",
      "크롤링 차근차근 시작하기 https://nomade.kr/vod/crawling/\n",
      "파이썬으로 업무 자동화 https://nomade.kr/vod/automation/\n",
      "장고 - 기본편 https://nomade.kr/vod/django/\n",
      "장고걸스 튜토리얼 https://nomade.kr/vod/djangogirls/\n",
      "장고 - Form/ModelForm 잘 알고 쓰기 https://nomade.kr/vod/form/\n",
      "장고 - 클래스 기반 뷰. 잘 알고 쓰기 https://nomade.kr/vod/cbv/\n",
      "장고 - 결제 시스템 연동 https://nomade.kr/vod/payment/\n",
      "장고 - 웹 프론트엔드 시작편 https://nomade.kr/vod/frontend/\n",
      "장고 - 다양한 위젯 만들기 https://nomade.kr/vod/widgets/\n",
      "장고 - API 서버 만들기 및 초간단 안드로이드 앱 만들기 https://nomade.kr/vod/apiserver/\n",
      "장고 - 하이브리드 앱 만들기 https://nomade.kr/vod/hybrid/\n",
      "장고 - 서비스 배포하기 https://nomade.kr/vod/deploy/\n",
      "장고 - 실전편 (Feat. 배달의 민족 St. 만들기) https://nomade.kr/vod/django-baemin/\n",
      "장고 - 실전편 (Feat. 인스타그램 St. 만들기) https://nomade.kr/vod/django-instagram/\n"
     ]
    }
   ],
   "source": [
    "import requests \n",
    "from bs4 import BeautifulSoup\n",
    "\n",
    "html = requests.get('https://askdjango.github.io/lv1/').text \n",
    "soup = BeautifulSoup(html, 'html.parser')\n",
    "\n",
    "for tag in soup.select('#course_list > .course > a'):\n",
    "    print(tag.text, tag['href'])"
   ]
  },
  {
   "cell_type": "code",
   "execution_count": null,
   "metadata": {
    "collapsed": true
   },
   "outputs": [],
   "source": []
  }
 ],
 "metadata": {
  "kernelspec": {
   "display_name": "Python 3",
   "language": "python",
   "name": "python3"
  },
  "language_info": {
   "codemirror_mode": {
    "name": "ipython",
    "version": 3
   },
   "file_extension": ".py",
   "mimetype": "text/x-python",
   "name": "python",
   "nbconvert_exporter": "python",
   "pygments_lexer": "ipython3",
   "version": "3.6.1"
  }
 },
 "nbformat": 4,
 "nbformat_minor": 2
}
