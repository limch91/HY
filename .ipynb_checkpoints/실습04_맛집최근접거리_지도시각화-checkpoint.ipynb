{
 "cells": [
  {
   "cell_type": "markdown",
   "metadata": {},
   "source": [
    "## 실습04번: 현재 내 위치에서 가장 가까운 식당 찾고 시각화"
   ]
  },
  {
   "cell_type": "markdown",
   "metadata": {},
   "source": [
    "#### 새로운 조건이 등장했습니다. \"현재 내 위치\" , \"가장 가까운\"\n",
    "\n",
    "이번 실습은 저희가 모은 망고플레이트 맛집 데이터에서 현재 위치기반 가장 가까운 식당을 찾고자 하는 상황을 가정합니다.\n",
    "\n",
    "지금까지 웹 크롤링, 위/경도 변환, 지도시각화의 과정을 거쳤으니\n",
    "\n",
    "이제 추가적인 요구사항을 반영하는 일만 남았습니다.\n",
    "\n",
    "빠른 실행을 위해 쓸데없는 주석은 삭제하도록하겠습니다."
   ]
  },
  {
   "cell_type": "code",
   "execution_count": 17,
   "metadata": {
    "collapsed": true
   },
   "outputs": [],
   "source": [
    "import pandas as pd\n",
    "import os"
   ]
  },
  {
   "cell_type": "markdown",
   "metadata": {},
   "source": [
    "데이터 수집은 실습03까지 해놓은 데이터로도 가능할 것같습니다."
   ]
  },
  {
   "cell_type": "code",
   "execution_count": 18,
   "metadata": {},
   "outputs": [
    {
     "data": {
      "text/html": [
       "<div>\n",
       "<style>\n",
       "    .dataframe thead tr:only-child th {\n",
       "        text-align: right;\n",
       "    }\n",
       "\n",
       "    .dataframe thead th {\n",
       "        text-align: left;\n",
       "    }\n",
       "\n",
       "    .dataframe tbody tr th {\n",
       "        vertical-align: top;\n",
       "    }\n",
       "</style>\n",
       "<table border=\"1\" class=\"dataframe\">\n",
       "  <thead>\n",
       "    <tr style=\"text-align: right;\">\n",
       "      <th></th>\n",
       "      <th>name</th>\n",
       "      <th>address</th>\n",
       "      <th>latitude</th>\n",
       "      <th>longitude</th>\n",
       "    </tr>\n",
       "  </thead>\n",
       "  <tbody>\n",
       "    <tr>\n",
       "      <th>0</th>\n",
       "      <td>�룷�깘�뼢</td>\n",
       "      <td>寃쎄린�룄 �븞�궛�떆 �긽濡앷뎄 �궗�룞 1568-12</td>\n",
       "      <td>37.301352</td>\n",
       "      <td>126.838414</td>\n",
       "    </tr>\n",
       "    <tr>\n",
       "      <th>1</th>\n",
       "      <td>�뻾蹂듯븳 而ㅽ뵾&amp;�떎�씠�떇</td>\n",
       "      <td>寃쎄린�룄 �븞�궛�떆 �긽濡앷뎄 �씠�룞 636-4</td>\n",
       "      <td>37.312013</td>\n",
       "      <td>126.843580</td>\n",
       "    </tr>\n",
       "    <tr>\n",
       "      <th>2</th>\n",
       "      <td>�뜑 ���瑜댄듃 1698</td>\n",
       "      <td>寃쎄린�룄 �븞�궛�떆 �긽濡앷뎄 �궗�룞 1573</td>\n",
       "      <td>37.301999</td>\n",
       "      <td>126.839561</td>\n",
       "    </tr>\n",
       "    <tr>\n",
       "      <th>3</th>\n",
       "      <td>醫뗭���븘移④낵�옄�젏</td>\n",
       "      <td>寃쎄린�룄 �븞�궛�떆 �긽濡앷뎄 �씠�룞 716-12</td>\n",
       "      <td>37.308234</td>\n",
       "      <td>126.852394</td>\n",
       "    </tr>\n",
       "    <tr>\n",
       "      <th>4</th>\n",
       "      <td>�뿉鍮꾩닔</td>\n",
       "      <td>寃쎄린�룄 �븞�궛�떆 �긽濡앷뎄 �궗�룞 1155-10</td>\n",
       "      <td>37.300217</td>\n",
       "      <td>126.840287</td>\n",
       "    </tr>\n",
       "  </tbody>\n",
       "</table>\n",
       "</div>"
      ],
      "text/plain": [
       "               name                          address   latitude   longitude\n",
       "0            �룷�깘�뼢  寃쎄린�룄 �븞�궛�떆 �긽濡앷뎄 �궗�룞 1568-12  37.301352  126.838414\n",
       "1  �뻾蹂듯븳 而ㅽ뵾&�떎�씠�떇    寃쎄린�룄 �븞�궛�떆 �긽濡앷뎄 �씠�룞 636-4  37.312013  126.843580\n",
       "2    �뜑 ���瑜댄듃 1698     寃쎄린�룄 �븞�궛�떆 �긽濡앷뎄 �궗�룞 1573  37.301999  126.839561\n",
       "3     醫뗭���븘移④낵�옄�젏   寃쎄린�룄 �븞�궛�떆 �긽濡앷뎄 �씠�룞 716-12  37.308234  126.852394\n",
       "4             �뿉鍮꾩닔  寃쎄린�룄 �븞�궛�떆 �긽濡앷뎄 �궗�룞 1155-10  37.300217  126.840287"
      ]
     },
     "execution_count": 18,
     "metadata": {},
     "output_type": "execute_result"
    }
   ],
   "source": [
    "restaurant_df = pd.read_csv('./한대앞_망고플레이트_맛집목록_위경도.csv', engine='python')\n",
    "# 칼럼명을 소문자 latitude, longitude로 변경\n",
    "restaurant_df.columns = ['name', 'address', 'latitude', 'longitude']\n",
    "restaurant_df.head(5)"
   ]
  },
  {
   "cell_type": "markdown",
   "metadata": {},
   "source": [
    "#### 현재 위치의 주소를 입력하면 위/경도를 뱉어내는 Google API이용\n",
    "\n",
    "실습03번 위/경도 변환 2번째 방법인 google geocode API를 기억하시나요?\n",
    "\n",
    "한글 주소를 입력하면 위/경도값을 list로 반환하는 함수를 작성했었습니다. \n",
    "\n",
    "이번에도 사용해보죠."
   ]
  },
  {
   "cell_type": "code",
   "execution_count": 19,
   "metadata": {
    "collapsed": true
   },
   "outputs": [],
   "source": [
    "import requests\n",
    "import json\n",
    "\n",
    "def get_latitude_longitude(addr):\n",
    "    '''\n",
    "    DESCRIPTION: 주소를 입력하면 위도(latitude)/경도(longitude)를 반환하는 함수 \n",
    "    ex) get_latitude_longitude('경기도 안산시 상록구 한양대학로 55')\n",
    "    '''\n",
    "    location = addr\n",
    "    response = requests.get('http://maps.googleapis.com/maps/api/geocode/json?sensor=false&language=ko&address=' + location)    \n",
    "    loc_dict = json.loads(response.text)\n",
    "    latitude = loc_dict['results'][0]['geometry']['location']['lat'] \n",
    "    longitude = loc_dict['results'][0]['geometry']['location']['lng']\n",
    "    return [latitude, longitude]"
   ]
  },
  {
   "cell_type": "markdown",
   "metadata": {},
   "source": [
    "#### 현재 내 위치 : 한양대 에리카캠퍼스 경상관\n",
    "\n",
    "주소: 경기도 안산시 상록구 사3동 한양대학로55 한양대학교 경상대학"
   ]
  },
  {
   "cell_type": "code",
   "execution_count": 20,
   "metadata": {
    "collapsed": true
   },
   "outputs": [],
   "source": [
    "# 주소를 기반으로 위/경도 데이터 얻기\n",
    "my_location = get_latitude_longitude('경기도 안산시 상록구 사3동 한양대학로55 한양대학교 경상대학')"
   ]
  },
  {
   "cell_type": "markdown",
   "metadata": {},
   "source": [
    "### 현 위치를 알아냈으니, 이제 '가장 가까운' 식당을 찾아봅시다.\n",
    "\n",
    "위/경도를 아는 상태에서의 두 점 간의 거리를 측정하는 방법에는 \n",
    "\n",
    "삼각함수의 haversine이 있습니다.\n",
    "\n",
    "괜찮습니다. 저도 모릅니다. 이런 상황에서 이런 도구를 쓴다는것이 중요하죠!"
   ]
  },
  {
   "cell_type": "code",
   "execution_count": 21,
   "metadata": {
    "collapsed": true
   },
   "outputs": [],
   "source": [
    "import math\n",
    "def haversine(my_location, target_location):\n",
    "    '''\n",
    "    DESCRIPTION: 두 위도경도 사이의 대원거리(great circle distance)를 계산. 위도경도는 각도 단위로 계산.\n",
    "    '''\n",
    "    latitude1, longitude1 = my_location\n",
    "    latitude2, longitude2 = target_location\n",
    "    lat1, lon1, lat2, lon2 = map(math.radians, [latitude1, longitude1, latitude2, longitude2])\n",
    "    \n",
    "    d_lat = lat2 - lat1\n",
    "    d_lon = lon2 - lon1\n",
    "    \n",
    "    a = math.sin(d_lat / 2) ** 2 + math.cos(lat1) * math.cos(lat2) * math.sin(d_lon / 2) ** 2\n",
    "    c = 2 * math.atan2(math.sqrt(a), math.sqrt(1-a))\n",
    "    \n",
    "    meter = 6367 * c * 1000\n",
    "    return round(meter, 2)\n",
    "    "
   ]
  },
  {
   "cell_type": "markdown",
   "metadata": {},
   "source": [
    "#### 현재 위치기반 모든 식당의 거리를 재봅시다."
   ]
  },
  {
   "cell_type": "code",
   "execution_count": 22,
   "metadata": {},
   "outputs": [],
   "source": [
    "distance_list = []\n",
    "for r in restaurant_df[['latitude', 'longitude']].values:\n",
    "    distance_list.append(haversine(my_location, r))"
   ]
  },
  {
   "cell_type": "code",
   "execution_count": 23,
   "metadata": {},
   "outputs": [
    {
     "data": {
      "text/plain": [
       "[275.71, 1511.56, 400.0]"
      ]
     },
     "execution_count": 23,
     "metadata": {},
     "output_type": "execute_result"
    }
   ],
   "source": [
    "distance_list[:3]"
   ]
  },
  {
   "cell_type": "markdown",
   "metadata": {},
   "source": [
    "이제 모든 각 식당들이 현재 제 위치에서 몇 미터나 떨어졌는지 알아냈습니다. \n",
    "\n",
    "이걸 새로 데이터 테이블에 정리해봅시다."
   ]
  },
  {
   "cell_type": "code",
   "execution_count": 25,
   "metadata": {
    "collapsed": true
   },
   "outputs": [],
   "source": [
    "restaurant_df['distance'] = distance_list"
   ]
  },
  {
   "cell_type": "code",
   "execution_count": 26,
   "metadata": {},
   "outputs": [
    {
     "data": {
      "text/html": [
       "<div>\n",
       "<style>\n",
       "    .dataframe thead tr:only-child th {\n",
       "        text-align: right;\n",
       "    }\n",
       "\n",
       "    .dataframe thead th {\n",
       "        text-align: left;\n",
       "    }\n",
       "\n",
       "    .dataframe tbody tr th {\n",
       "        vertical-align: top;\n",
       "    }\n",
       "</style>\n",
       "<table border=\"1\" class=\"dataframe\">\n",
       "  <thead>\n",
       "    <tr style=\"text-align: right;\">\n",
       "      <th></th>\n",
       "      <th>name</th>\n",
       "      <th>address</th>\n",
       "      <th>latitude</th>\n",
       "      <th>longitude</th>\n",
       "      <th>distance</th>\n",
       "    </tr>\n",
       "  </thead>\n",
       "  <tbody>\n",
       "    <tr>\n",
       "      <th>0</th>\n",
       "      <td>�룷�깘�뼢</td>\n",
       "      <td>寃쎄린�룄 �븞�궛�떆 �긽濡앷뎄 �궗�룞 1568-12</td>\n",
       "      <td>37.301352</td>\n",
       "      <td>126.838414</td>\n",
       "      <td>275.71</td>\n",
       "    </tr>\n",
       "    <tr>\n",
       "      <th>1</th>\n",
       "      <td>�뻾蹂듯븳 而ㅽ뵾&amp;�떎�씠�떇</td>\n",
       "      <td>寃쎄린�룄 �븞�궛�떆 �긽濡앷뎄 �씠�룞 636-4</td>\n",
       "      <td>37.312013</td>\n",
       "      <td>126.843580</td>\n",
       "      <td>1511.56</td>\n",
       "    </tr>\n",
       "    <tr>\n",
       "      <th>2</th>\n",
       "      <td>�뜑 ���瑜댄듃 1698</td>\n",
       "      <td>寃쎄린�룄 �븞�궛�떆 �긽濡앷뎄 �궗�룞 1573</td>\n",
       "      <td>37.301999</td>\n",
       "      <td>126.839561</td>\n",
       "      <td>400.00</td>\n",
       "    </tr>\n",
       "    <tr>\n",
       "      <th>3</th>\n",
       "      <td>醫뗭���븘移④낵�옄�젏</td>\n",
       "      <td>寃쎄린�룄 �븞�궛�떆 �긽濡앷뎄 �씠�룞 716-12</td>\n",
       "      <td>37.308234</td>\n",
       "      <td>126.852394</td>\n",
       "      <td>1727.87</td>\n",
       "    </tr>\n",
       "    <tr>\n",
       "      <th>4</th>\n",
       "      <td>�뿉鍮꾩닔</td>\n",
       "      <td>寃쎄린�룄 �븞�궛�떆 �긽濡앷뎄 �궗�룞 1155-10</td>\n",
       "      <td>37.300217</td>\n",
       "      <td>126.840287</td>\n",
       "      <td>386.89</td>\n",
       "    </tr>\n",
       "  </tbody>\n",
       "</table>\n",
       "</div>"
      ],
      "text/plain": [
       "               name                          address   latitude   longitude  \\\n",
       "0            �룷�깘�뼢  寃쎄린�룄 �븞�궛�떆 �긽濡앷뎄 �궗�룞 1568-12  37.301352  126.838414   \n",
       "1  �뻾蹂듯븳 而ㅽ뵾&�떎�씠�떇    寃쎄린�룄 �븞�궛�떆 �긽濡앷뎄 �씠�룞 636-4  37.312013  126.843580   \n",
       "2    �뜑 ���瑜댄듃 1698     寃쎄린�룄 �븞�궛�떆 �긽濡앷뎄 �궗�룞 1573  37.301999  126.839561   \n",
       "3     醫뗭���븘移④낵�옄�젏   寃쎄린�룄 �븞�궛�떆 �긽濡앷뎄 �씠�룞 716-12  37.308234  126.852394   \n",
       "4             �뿉鍮꾩닔  寃쎄린�룄 �븞�궛�떆 �긽濡앷뎄 �궗�룞 1155-10  37.300217  126.840287   \n",
       "\n",
       "   distance  \n",
       "0    275.71  \n",
       "1   1511.56  \n",
       "2    400.00  \n",
       "3   1727.87  \n",
       "4    386.89  "
      ]
     },
     "execution_count": 26,
     "metadata": {},
     "output_type": "execute_result"
    }
   ],
   "source": [
    "restaurant_df.head()"
   ]
  },
  {
   "cell_type": "markdown",
   "metadata": {},
   "source": [
    "이제 가장 작은 distance값을 찾으면 되겠군요?\n",
    "\n",
    "pandas의 정렬법은 sort_values라는 method가 있습니다."
   ]
  },
  {
   "cell_type": "code",
   "execution_count": 27,
   "metadata": {},
   "outputs": [
    {
     "data": {
      "text/html": [
       "<div>\n",
       "<style>\n",
       "    .dataframe thead tr:only-child th {\n",
       "        text-align: right;\n",
       "    }\n",
       "\n",
       "    .dataframe thead th {\n",
       "        text-align: left;\n",
       "    }\n",
       "\n",
       "    .dataframe tbody tr th {\n",
       "        vertical-align: top;\n",
       "    }\n",
       "</style>\n",
       "<table border=\"1\" class=\"dataframe\">\n",
       "  <thead>\n",
       "    <tr style=\"text-align: right;\">\n",
       "      <th></th>\n",
       "      <th>name</th>\n",
       "      <th>address</th>\n",
       "      <th>latitude</th>\n",
       "      <th>longitude</th>\n",
       "      <th>distance</th>\n",
       "    </tr>\n",
       "  </thead>\n",
       "  <tbody>\n",
       "    <tr>\n",
       "      <th>0</th>\n",
       "      <td>�룷�깘�뼢</td>\n",
       "      <td>寃쎄린�룄 �븞�궛�떆 �긽濡앷뎄 �궗�룞 1568-12</td>\n",
       "      <td>37.301352</td>\n",
       "      <td>126.838414</td>\n",
       "      <td>275.71</td>\n",
       "    </tr>\n",
       "    <tr>\n",
       "      <th>1</th>\n",
       "      <td>�뿉鍮꾩닔</td>\n",
       "      <td>寃쎄린�룄 �븞�궛�떆 �긽濡앷뎄 �궗�룞 1155-10</td>\n",
       "      <td>37.300217</td>\n",
       "      <td>126.840287</td>\n",
       "      <td>386.89</td>\n",
       "    </tr>\n",
       "    <tr>\n",
       "      <th>2</th>\n",
       "      <td>�뜑 ���瑜댄듃 1698</td>\n",
       "      <td>寃쎄린�룄 �븞�궛�떆 �긽濡앷뎄 �궗�룞 1573</td>\n",
       "      <td>37.301999</td>\n",
       "      <td>126.839561</td>\n",
       "      <td>400.00</td>\n",
       "    </tr>\n",
       "    <tr>\n",
       "      <th>3</th>\n",
       "      <td>�뻾蹂듯븳 而ㅽ뵾&amp;�떎�씠�떇</td>\n",
       "      <td>寃쎄린�룄 �븞�궛�떆 �긽濡앷뎄 �씠�룞 636-4</td>\n",
       "      <td>37.312013</td>\n",
       "      <td>126.843580</td>\n",
       "      <td>1511.56</td>\n",
       "    </tr>\n",
       "    <tr>\n",
       "      <th>4</th>\n",
       "      <td>異붿뼲�쓽 �꽌�꽌媛덈퉬</td>\n",
       "      <td>寃쎄린�룄 �븞�궛�떆 �긽濡앷뎄 �씠�룞 715-8</td>\n",
       "      <td>37.308877</td>\n",
       "      <td>126.850807</td>\n",
       "      <td>1653.86</td>\n",
       "    </tr>\n",
       "  </tbody>\n",
       "</table>\n",
       "</div>"
      ],
      "text/plain": [
       "               name                          address   latitude   longitude  \\\n",
       "0            �룷�깘�뼢  寃쎄린�룄 �븞�궛�떆 �긽濡앷뎄 �궗�룞 1568-12  37.301352  126.838414   \n",
       "1             �뿉鍮꾩닔  寃쎄린�룄 �븞�궛�떆 �긽濡앷뎄 �궗�룞 1155-10  37.300217  126.840287   \n",
       "2    �뜑 ���瑜댄듃 1698     寃쎄린�룄 �븞�궛�떆 �긽濡앷뎄 �궗�룞 1573  37.301999  126.839561   \n",
       "3  �뻾蹂듯븳 而ㅽ뵾&�떎�씠�떇    寃쎄린�룄 �븞�궛�떆 �긽濡앷뎄 �씠�룞 636-4  37.312013  126.843580   \n",
       "4     異붿뼲�쓽 �꽌�꽌媛덈퉬    寃쎄린�룄 �븞�궛�떆 �긽濡앷뎄 �씠�룞 715-8  37.308877  126.850807   \n",
       "\n",
       "   distance  \n",
       "0    275.71  \n",
       "1    386.89  \n",
       "2    400.00  \n",
       "3   1511.56  \n",
       "4   1653.86  "
      ]
     },
     "execution_count": 27,
     "metadata": {},
     "output_type": "execute_result"
    }
   ],
   "source": [
    "near_restaurant_df = restaurant_df.sort_values('distance')\n",
    "near_restaurant_df.reset_index(drop=True, inplace=True)\n",
    "near_restaurant_df.head(5)\n"
   ]
  },
  {
   "cell_type": "markdown",
   "metadata": {},
   "source": [
    "현 위치기반 가장 가까운 식당이 어딘가요? 이제 지도 시각화를 해봅시다."
   ]
  },
  {
   "cell_type": "code",
   "execution_count": 28,
   "metadata": {
    "collapsed": true
   },
   "outputs": [],
   "source": [
    "nearest_latlng = near_restaurant_df.loc[0][['latitude', 'longitude']].values"
   ]
  },
  {
   "cell_type": "code",
   "execution_count": 29,
   "metadata": {
    "scrolled": true
   },
   "outputs": [
    {
     "data": {
      "text/html": [
       "<div style=\"width:100%;\"><div style=\"position:relative;width:100%;height:0;padding-bottom:60%;\"><iframe src=\"data:text/html;charset=utf-8;base64,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\" style=\"position:absolute;width:100%;height:100%;left:0;top:0;border:none !important;\" allowfullscreen webkitallowfullscreen mozallowfullscreen></iframe></div></div>"
      ],
      "text/plain": [
       "<folium.folium.Map at 0x18b89fc4710>"
      ]
     },
     "execution_count": 29,
     "metadata": {},
     "output_type": "execute_result"
    }
   ],
   "source": [
    "import folium\n",
    "# 지도 \n",
    "hanyang_univ_map = folium.Map(location=[  37.300853, 126.842930], zoom_start=15)\n",
    "# 식당표시\n",
    "folium.CircleMarker(nearest_latlng, color='red', fill_color='red', radius=5).add_to(hanyang_univ_map)\n",
    "# 내 위치 표시\n",
    "folium.CircleMarker(my_location, color='blue', fill_color='blue', radius=5).add_to(hanyang_univ_map)\n",
    "hanyang_univ_map"
   ]
  },
  {
   "cell_type": "code",
   "execution_count": null,
   "metadata": {
    "collapsed": true
   },
   "outputs": [],
   "source": []
  }
 ],
 "metadata": {
  "anaconda-cloud": {},
  "kernelspec": {
   "display_name": "Python 3",
   "language": "python",
   "name": "python3"
  },
  "language_info": {
   "codemirror_mode": {
    "name": "ipython",
    "version": 3
   },
   "file_extension": ".py",
   "mimetype": "text/x-python",
   "name": "python",
   "nbconvert_exporter": "python",
   "pygments_lexer": "ipython3",
   "version": "3.6.1"
  }
 },
 "nbformat": 4,
 "nbformat_minor": 1
}
