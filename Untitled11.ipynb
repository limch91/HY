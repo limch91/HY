{
 "cells": [
  {
   "cell_type": "code",
   "execution_count": 4,
   "metadata": {
    "collapsed": true
   },
   "outputs": [],
   "source": [
    "import pandas as pd\n",
    "import numpy as np\n",
    "from pandas import DataFrame"
   ]
  },
  {
   "cell_type": "code",
   "execution_count": 7,
   "metadata": {
    "collapsed": true
   },
   "outputs": [],
   "source": [
    "data = pd.read_csv('Haiti.csv')"
   ]
  },
  {
   "cell_type": "code",
   "execution_count": 8,
   "metadata": {},
   "outputs": [
    {
     "name": "stdout",
     "output_type": "stream",
     "text": [
      "<class 'pandas.core.frame.DataFrame'>\n",
      "RangeIndex: 3593 entries, 0 to 3592\n",
      "Data columns (total 10 columns):\n",
      "Serial            3593 non-null int64\n",
      "INCIDENT TITLE    3593 non-null object\n",
      "INCIDENT DATE     3593 non-null object\n",
      "LOCATION          3592 non-null object\n",
      "DESCRIPTION       3593 non-null object\n",
      "CATEGORY          3587 non-null object\n",
      "LATITUDE          3593 non-null float64\n",
      "LONGITUDE         3593 non-null float64\n",
      "APPROVED          3593 non-null object\n",
      "VERIFIED          3593 non-null object\n",
      "dtypes: float64(2), int64(1), object(7)\n",
      "memory usage: 280.8+ KB\n"
     ]
    }
   ],
   "source": [
    "data.info()"
   ]
  },
  {
   "cell_type": "code",
   "execution_count": 9,
   "metadata": {},
   "outputs": [
    {
     "data": {
      "text/html": [
       "<div>\n",
       "<style>\n",
       "    .dataframe thead tr:only-child th {\n",
       "        text-align: right;\n",
       "    }\n",
       "\n",
       "    .dataframe thead th {\n",
       "        text-align: left;\n",
       "    }\n",
       "\n",
       "    .dataframe tbody tr th {\n",
       "        vertical-align: top;\n",
       "    }\n",
       "</style>\n",
       "<table border=\"1\" class=\"dataframe\">\n",
       "  <thead>\n",
       "    <tr style=\"text-align: right;\">\n",
       "      <th></th>\n",
       "      <th>INCIDENT DATE</th>\n",
       "      <th>LATITUDE</th>\n",
       "      <th>LONGITUDE</th>\n",
       "    </tr>\n",
       "  </thead>\n",
       "  <tbody>\n",
       "    <tr>\n",
       "      <th>0</th>\n",
       "      <td>05/07/2010 17:26</td>\n",
       "      <td>18.233333</td>\n",
       "      <td>-72.533333</td>\n",
       "    </tr>\n",
       "    <tr>\n",
       "      <th>1</th>\n",
       "      <td>28/06/2010 23:06</td>\n",
       "      <td>50.226029</td>\n",
       "      <td>5.729886</td>\n",
       "    </tr>\n",
       "    <tr>\n",
       "      <th>2</th>\n",
       "      <td>24/06/2010 16:21</td>\n",
       "      <td>22.278381</td>\n",
       "      <td>114.174287</td>\n",
       "    </tr>\n",
       "    <tr>\n",
       "      <th>3</th>\n",
       "      <td>20/06/2010 21:59</td>\n",
       "      <td>44.407062</td>\n",
       "      <td>8.933989</td>\n",
       "    </tr>\n",
       "    <tr>\n",
       "      <th>4</th>\n",
       "      <td>18/05/2010 16:26</td>\n",
       "      <td>18.571084</td>\n",
       "      <td>-72.334671</td>\n",
       "    </tr>\n",
       "    <tr>\n",
       "      <th>5</th>\n",
       "      <td>26/04/2010 13:14</td>\n",
       "      <td>18.593707</td>\n",
       "      <td>-72.310079</td>\n",
       "    </tr>\n",
       "    <tr>\n",
       "      <th>6</th>\n",
       "      <td>26/04/2010 14:19</td>\n",
       "      <td>18.482800</td>\n",
       "      <td>-73.638800</td>\n",
       "    </tr>\n",
       "    <tr>\n",
       "      <th>7</th>\n",
       "      <td>26/04/2010 14:27</td>\n",
       "      <td>18.415000</td>\n",
       "      <td>-73.195000</td>\n",
       "    </tr>\n",
       "    <tr>\n",
       "      <th>8</th>\n",
       "      <td>15/03/2010 10:58</td>\n",
       "      <td>18.517443</td>\n",
       "      <td>-72.236841</td>\n",
       "    </tr>\n",
       "    <tr>\n",
       "      <th>9</th>\n",
       "      <td>15/03/2010 11:00</td>\n",
       "      <td>18.547790</td>\n",
       "      <td>-72.410010</td>\n",
       "    </tr>\n",
       "  </tbody>\n",
       "</table>\n",
       "</div>"
      ],
      "text/plain": [
       "      INCIDENT DATE   LATITUDE   LONGITUDE\n",
       "0  05/07/2010 17:26  18.233333  -72.533333\n",
       "1  28/06/2010 23:06  50.226029    5.729886\n",
       "2  24/06/2010 16:21  22.278381  114.174287\n",
       "3  20/06/2010 21:59  44.407062    8.933989\n",
       "4  18/05/2010 16:26  18.571084  -72.334671\n",
       "5  26/04/2010 13:14  18.593707  -72.310079\n",
       "6  26/04/2010 14:19  18.482800  -73.638800\n",
       "7  26/04/2010 14:27  18.415000  -73.195000\n",
       "8  15/03/2010 10:58  18.517443  -72.236841\n",
       "9  15/03/2010 11:00  18.547790  -72.410010"
      ]
     },
     "execution_count": 9,
     "metadata": {},
     "output_type": "execute_result"
    }
   ],
   "source": [
    "data[['INCIDENT DATE', 'LATITUDE', 'LONGITUDE']][:10]"
   ]
  },
  {
   "cell_type": "code",
   "execution_count": 10,
   "metadata": {},
   "outputs": [
    {
     "data": {
      "text/plain": [
       "0          1. Urgences | Emergency, 3. Public Health, \n",
       "1    1. Urgences | Emergency, 2. Urgences logistiqu...\n",
       "2    2. Urgences logistiques | Vital Lines, 8. Autr...\n",
       "3                            1. Urgences | Emergency, \n",
       "4                            1. Urgences | Emergency, \n",
       "5                       5e. Communication lines down, \n",
       "Name: CATEGORY, dtype: object"
      ]
     },
     "execution_count": 10,
     "metadata": {},
     "output_type": "execute_result"
    }
   ],
   "source": [
    "data['CATEGORY'][:6]"
   ]
  },
  {
   "cell_type": "code",
   "execution_count": 11,
   "metadata": {},
   "outputs": [
    {
     "data": {
      "text/html": [
       "<div>\n",
       "<style>\n",
       "    .dataframe thead tr:only-child th {\n",
       "        text-align: right;\n",
       "    }\n",
       "\n",
       "    .dataframe thead th {\n",
       "        text-align: left;\n",
       "    }\n",
       "\n",
       "    .dataframe tbody tr th {\n",
       "        vertical-align: top;\n",
       "    }\n",
       "</style>\n",
       "<table border=\"1\" class=\"dataframe\">\n",
       "  <thead>\n",
       "    <tr style=\"text-align: right;\">\n",
       "      <th></th>\n",
       "      <th>Serial</th>\n",
       "      <th>LATITUDE</th>\n",
       "      <th>LONGITUDE</th>\n",
       "    </tr>\n",
       "  </thead>\n",
       "  <tbody>\n",
       "    <tr>\n",
       "      <th>count</th>\n",
       "      <td>3593.000000</td>\n",
       "      <td>3593.000000</td>\n",
       "      <td>3593.000000</td>\n",
       "    </tr>\n",
       "    <tr>\n",
       "      <th>mean</th>\n",
       "      <td>2080.277484</td>\n",
       "      <td>18.611495</td>\n",
       "      <td>-72.322680</td>\n",
       "    </tr>\n",
       "    <tr>\n",
       "      <th>std</th>\n",
       "      <td>1171.100360</td>\n",
       "      <td>0.738572</td>\n",
       "      <td>3.650776</td>\n",
       "    </tr>\n",
       "    <tr>\n",
       "      <th>min</th>\n",
       "      <td>4.000000</td>\n",
       "      <td>18.041313</td>\n",
       "      <td>-74.452757</td>\n",
       "    </tr>\n",
       "    <tr>\n",
       "      <th>25%</th>\n",
       "      <td>1074.000000</td>\n",
       "      <td>18.524070</td>\n",
       "      <td>-72.417500</td>\n",
       "    </tr>\n",
       "    <tr>\n",
       "      <th>50%</th>\n",
       "      <td>2163.000000</td>\n",
       "      <td>18.539269</td>\n",
       "      <td>-72.335000</td>\n",
       "    </tr>\n",
       "    <tr>\n",
       "      <th>75%</th>\n",
       "      <td>3088.000000</td>\n",
       "      <td>18.561820</td>\n",
       "      <td>-72.293570</td>\n",
       "    </tr>\n",
       "    <tr>\n",
       "      <th>max</th>\n",
       "      <td>4052.000000</td>\n",
       "      <td>50.226029</td>\n",
       "      <td>114.174287</td>\n",
       "    </tr>\n",
       "  </tbody>\n",
       "</table>\n",
       "</div>"
      ],
      "text/plain": [
       "            Serial     LATITUDE    LONGITUDE\n",
       "count  3593.000000  3593.000000  3593.000000\n",
       "mean   2080.277484    18.611495   -72.322680\n",
       "std    1171.100360     0.738572     3.650776\n",
       "min       4.000000    18.041313   -74.452757\n",
       "25%    1074.000000    18.524070   -72.417500\n",
       "50%    2163.000000    18.539269   -72.335000\n",
       "75%    3088.000000    18.561820   -72.293570\n",
       "max    4052.000000    50.226029   114.174287"
      ]
     },
     "execution_count": 11,
     "metadata": {},
     "output_type": "execute_result"
    }
   ],
   "source": [
    "data.describe()"
   ]
  },
  {
   "cell_type": "code",
   "execution_count": 12,
   "metadata": {
    "collapsed": true
   },
   "outputs": [],
   "source": [
    "data = data[(data.LATITUDE > 18) & (data.LATITUDE < 20) &\n",
    "            (data.LONGITUDE > -75) & (data.LONGITUDE < -70)\n",
    "            & data.CATEGORY.notnull()]"
   ]
  },
  {
   "cell_type": "code",
   "execution_count": 13,
   "metadata": {
    "collapsed": true
   },
   "outputs": [],
   "source": [
    "def to_cat_list(catstr) : \n",
    "    stripped = (x.strip() for x in catstr.split(','))\n",
    "    return [x for x in stripped if x]\n",
    "\n",
    "def get_all_categories(cat_series):\n",
    "    cat_sets = (set(to_cat_list(x)) for x in cat_series)\n",
    "    return sorted(set.union(*cat_sets))\n",
    "\n",
    "def get_english(cat) :\n",
    "    code, names = cat.split('.')\n",
    "    if '|' in names:\n",
    "        names = names.split('|')[1]\n",
    "    return code, names.strip()"
   ]
  },
  {
   "cell_type": "code",
   "execution_count": 14,
   "metadata": {},
   "outputs": [
    {
     "data": {
      "text/plain": [
       "('2', 'Vital Lines')"
      ]
     },
     "execution_count": 14,
     "metadata": {},
     "output_type": "execute_result"
    }
   ],
   "source": [
    "get_english('2.Urgences logistiques | Vital Lines')"
   ]
  },
  {
   "cell_type": "code",
   "execution_count": 15,
   "metadata": {
    "collapsed": true
   },
   "outputs": [],
   "source": [
    "all_cats = get_all_categories(data.CATEGORY)"
   ]
  },
  {
   "cell_type": "code",
   "execution_count": 16,
   "metadata": {
    "collapsed": true
   },
   "outputs": [],
   "source": [
    "english_mapping = dict(get_english(x) for x in all_cats)"
   ]
  },
  {
   "cell_type": "code",
   "execution_count": 17,
   "metadata": {},
   "outputs": [
    {
     "data": {
      "text/plain": [
       "'Food Shortage'"
      ]
     },
     "execution_count": 17,
     "metadata": {},
     "output_type": "execute_result"
    }
   ],
   "source": [
    "english_mapping['2a']"
   ]
  },
  {
   "cell_type": "code",
   "execution_count": 18,
   "metadata": {},
   "outputs": [
    {
     "data": {
      "text/plain": [
       "'Earthquake and aftershocks'"
      ]
     },
     "execution_count": 18,
     "metadata": {},
     "output_type": "execute_result"
    }
   ],
   "source": [
    "english_mapping['6c']"
   ]
  },
  {
   "cell_type": "code",
   "execution_count": 19,
   "metadata": {
    "collapsed": true
   },
   "outputs": [],
   "source": [
    "def get_code(seq) :\n",
    "    return [x.split('.')[0] for x in seq if x]"
   ]
  },
  {
   "cell_type": "code",
   "execution_count": 20,
   "metadata": {
    "collapsed": true
   },
   "outputs": [],
   "source": [
    "all_codes = get_code(all_cats)\n",
    "code_index = pd.Index(np.unique(all_codes))\n",
    "dummy_frame = DataFrame(np.zeros((len(data), len(code_index))),\n",
    "                        index=data.index, columns=code_index)"
   ]
  },
  {
   "cell_type": "code",
   "execution_count": 27,
   "metadata": {},
   "outputs": [
    {
     "name": "stdout",
     "output_type": "stream",
     "text": [
      "<class 'pandas.core.frame.DataFrame'>\n",
      "Int64Index: 3569 entries, 0 to 3592\n",
      "Data columns (total 6 columns):\n",
      "1     3569 non-null float64\n",
      "1a    3569 non-null float64\n",
      "1b    3569 non-null float64\n",
      "1c    3569 non-null float64\n",
      "1d    3569 non-null float64\n",
      "2     3569 non-null float64\n",
      "dtypes: float64(6)\n",
      "memory usage: 195.2 KB\n"
     ]
    },
    {
     "name": "stderr",
     "output_type": "stream",
     "text": [
      "C:\\ProgramData\\Anaconda3\\lib\\site-packages\\ipykernel_launcher.py:1: DeprecationWarning: \n",
      ".ix is deprecated. Please use\n",
      ".loc for label based indexing or\n",
      ".iloc for positional indexing\n",
      "\n",
      "See the documentation here:\n",
      "http://pandas.pydata.org/pandas-docs/stable/indexing.html#deprecate_ix\n",
      "  \"\"\"Entry point for launching an IPython kernel.\n"
     ]
    }
   ],
   "source": [
    "dummy_frame.ix[:, :6].info()"
   ]
  },
  {
   "cell_type": "code",
   "execution_count": 21,
   "metadata": {},
   "outputs": [
    {
     "name": "stderr",
     "output_type": "stream",
     "text": [
      "C:\\ProgramData\\Anaconda3\\lib\\site-packages\\ipykernel_launcher.py:3: DeprecationWarning: \n",
      ".ix is deprecated. Please use\n",
      ".loc for label based indexing or\n",
      ".iloc for positional indexing\n",
      "\n",
      "See the documentation here:\n",
      "http://pandas.pydata.org/pandas-docs/stable/indexing.html#deprecate_ix\n",
      "  This is separate from the ipykernel package so we can avoid doing imports until\n"
     ]
    }
   ],
   "source": [
    "for row, cat in zip(data.index, data.CATEGORY):\n",
    "    codes = get_code(to_cat_list(cat))\n",
    "    dummy_frame.ix[row, codes] = 1\n",
    "    \n",
    "data = data.join(dummy_frame.add_prefix('category_'))"
   ]
  },
  {
   "cell_type": "code",
   "execution_count": 22,
   "metadata": {},
   "outputs": [
    {
     "name": "stdout",
     "output_type": "stream",
     "text": [
      "<class 'pandas.core.frame.DataFrame'>\n",
      "Int64Index: 3569 entries, 0 to 3592\n",
      "Data columns (total 5 columns):\n",
      "category_1     3569 non-null float64\n",
      "category_1a    3569 non-null float64\n",
      "category_1b    3569 non-null float64\n",
      "category_1c    3569 non-null float64\n",
      "category_1d    3569 non-null float64\n",
      "dtypes: float64(5)\n",
      "memory usage: 327.3 KB\n"
     ]
    },
    {
     "name": "stderr",
     "output_type": "stream",
     "text": [
      "C:\\ProgramData\\Anaconda3\\lib\\site-packages\\ipykernel_launcher.py:1: DeprecationWarning: \n",
      ".ix is deprecated. Please use\n",
      ".loc for label based indexing or\n",
      ".iloc for positional indexing\n",
      "\n",
      "See the documentation here:\n",
      "http://pandas.pydata.org/pandas-docs/stable/indexing.html#deprecate_ix\n",
      "  \"\"\"Entry point for launching an IPython kernel.\n"
     ]
    }
   ],
   "source": [
    "data.ix[:, 10:15].info()"
   ]
  },
  {
   "cell_type": "code",
   "execution_count": 23,
   "metadata": {
    "collapsed": true
   },
   "outputs": [],
   "source": [
    "from mpl_toolkits.basemap import Basemap\n",
    "import matplotlib.pyplot as plt\n",
    "\n",
    "def basic_haiti_map(ax=None, lllat=17.25, urlat=20.25,\n",
    "                    lllon=-75, urlon=-71):\n",
    "    # create polar stereographic Basemap instance.\n",
    "    m = Basemap(ax=ax, projection = 'stere' ,\n",
    "                lon_0 = (urlon + lllon) / 2,\n",
    "                lat_0 = (urlat + lllat) / 2,\n",
    "                llcrnrlat=lllat, urcrnrlat=urlat,\n",
    "                llcrnrlon=lllon, urcrnrlon=urlon,\n",
    "                resolution='i')\n",
    "    # draw coastlines, state and country boundaries, edge of map.\n",
    "    m.drawcoastlines()\n",
    "    m.drawstates()\n",
    "    m.drawcountries()\n",
    "    return m"
   ]
  },
  {
   "cell_type": "code",
   "execution_count": 49,
   "metadata": {},
   "outputs": [
    {
     "name": "stderr",
     "output_type": "stream",
     "text": [
      "C:\\ProgramData\\Anaconda3\\lib\\site-packages\\mpl_toolkits\\basemap\\__init__.py:3274: MatplotlibDeprecationWarning: The ishold function was deprecated in version 2.0.\n",
      "  b = ax.ishold()\n",
      "C:\\ProgramData\\Anaconda3\\lib\\site-packages\\mpl_toolkits\\basemap\\__init__.py:3283: MatplotlibDeprecationWarning: axes.hold is deprecated.\n",
      "    See the API Changes document (http://matplotlib.org/api/api_changes.html)\n",
      "    for more details.\n",
      "  ax.hold(b)\n"
     ]
    },
    {
     "data": {
      "image/png": "[encoded data removed]",
      "text/plain": [
       "<matplotlib.figure.Figure at 0x285ec83f5f8>"
      ]
     },
     "metadata": {},
     "output_type": "display_data"
    }
   ],
   "source": [
    "fig, axes = plt.subplots(nrows=2, ncols=2, figsize=(12, 10))\n",
    "fig.subplots_adjust(hspace=0.05, wspace=0.05)\n",
    "\n",
    "to_plot = ['2a', '1', '3c', '7a']\n",
    "\n",
    "lllat=17.25; urlat=20.25; lllon=-75; urlon=-71\n",
    "\n",
    "for code, ax in zip(to_plot, axes.flat) : \n",
    "   m=basic_haiti_map(ax, lllat=lllat, urlat=urlat,\n",
    "                    lllon=lllon, urlon=urlon)\n",
    "                      \n",
    "   cat_data = data[data['category_%s' % code] == 1]\n",
    "   # compute map proj coordinates.\n",
    "   x, y = m(cat_data.LONGITUDE.values, cat_data.LATITUDE.values)\n",
    "    \n",
    "   m.plot(x, y, 'k.', alpha=0.5)\n",
    "   ax.set_title('%s: %s' % (code, english_mapping[code]))\n",
    "    \n",
    "plt.show()"
   ]
  },
  {
   "cell_type": "code",
   "execution_count": 50,
   "metadata": {
    "scrolled": true
   },
   "outputs": [
    {
     "data": {
      "text/plain": [
       "(1583,\n",
       " 3,\n",
       " [-72.749246, 18.409952, 0.0, 0.0],\n",
       " [-71.973789, 18.7147105, 0.0, 0.0],\n",
       " <matplotlib.collections.LineCollection at 0x285ecc341d0>)"
      ]
     },
     "execution_count": 50,
     "metadata": {},
     "output_type": "execute_result"
    }
   ],
   "source": [
    "shapefile_path = 'PortAuPrince_Roads'\n",
    "m.readshapefile(shapefile_path, 'roads')"
   ]
  },
  {
   "cell_type": "code",
   "execution_count": null,
   "metadata": {
    "collapsed": true
   },
   "outputs": [],
   "source": []
  },
  {
   "cell_type": "code",
   "execution_count": null,
   "metadata": {
    "collapsed": true
   },
   "outputs": [],
   "source": []
  }
 ],
 "metadata": {
  "kernelspec": {
   "display_name": "Python 3",
   "language": "python",
   "name": "python3"
  },
  "language_info": {
   "codemirror_mode": {
    "name": "ipython",
    "version": 3
   },
   "file_extension": ".py",
   "mimetype": "text/x-python",
   "name": "python",
   "nbconvert_exporter": "python",
   "pygments_lexer": "ipython3",
   "version": "3.6.1"
  }
 },
 "nbformat": 4,
 "nbformat_minor": 2
}
